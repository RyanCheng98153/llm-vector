{
 "cells": [
  {
   "cell_type": "code",
   "execution_count": 1,
   "id": "744968d7-bf19-46ba-bc87-c460bf6b646c",
   "metadata": {},
   "outputs": [],
   "source": [
    "# !pip install transformers --user"
   ]
  },
  {
   "cell_type": "code",
   "execution_count": 2,
   "id": "4be8d8a4",
   "metadata": {},
   "outputs": [
    {
     "name": "stderr",
     "output_type": "stream",
     "text": [
      "/usr/local/lib/python3.12/dist-packages/tqdm/auto.py:21: TqdmWarning: IProgress not found. Please update jupyter and ipywidgets. See https://ipywidgets.readthedocs.io/en/stable/user_install.html\n",
      "  from .autonotebook import tqdm as notebook_tqdm\n",
      "Loading checkpoint shards: 100%|██████████| 4/4 [00:05<00:00,  1.28s/it]\n"
     ]
    }
   ],
   "source": [
    "from transformers import AutoTokenizer, AutoModelForCausalLM, PreTrainedModel, PreTrainedTokenizer\n",
    "from transformers.cache_utils import DynamicCache\n",
    "import torch\n",
    "from transformers.modeling_outputs import CausalLMOutputWithPast\n",
    "\n",
    "# Load model directly\n",
    "model_name = \"meta-llama/Llama-3.1-8B-Instruct\"\n",
    "device = \"cuda\" # \"cuda\" for GPU usage or \"cpu\" for CPU usage\n",
    "\n",
    "tokenizer: PreTrainedTokenizer = AutoTokenizer.from_pretrained(model_name, cache_dir=f\"./.cache/{model_name}\")\n",
    "model: PreTrainedModel = AutoModelForCausalLM.from_pretrained(model_name, cache_dir=f\"./.cache/{model_name}\").to(device)"
   ]
  },
  {
   "cell_type": "code",
   "execution_count": 3,
   "id": "97656859",
   "metadata": {},
   "outputs": [],
   "source": [
    "import torch\n",
    "from transformers import AutoTokenizer, AutoModelForCausalLM\n",
    "# torch.manual_seed(0)\n",
    "\n",
    "class Sampler:\n",
    "    def __init__(self , model_name : str =\"meta-llama/Llama-3.1-8B-Instruct\") -> None:\n",
    "\n",
    "        self.device = 'cuda' if torch.cuda.is_available() else 'cpu'\n",
    "        self.tokenizer = AutoTokenizer.from_pretrained(model_name)\n",
    "        self.model = AutoModelForCausalLM.from_pretrained(model_name).to(self.device)\n",
    "\n",
    "    def encode(self, text):\n",
    "        return self.tokenizer.encode(text, return_tensors='pt').to(self.device)\n",
    "\n",
    "    def decode(self, ids):\n",
    "        return self.tokenizer.decode(ids)\n",
    "\n",
    "    def get_next_token_prob(self, input_ids: torch.Tensor):\n",
    "        with torch.no_grad():\n",
    "            logits = self.model(input_ids=input_ids).logits\n",
    "        logits = logits[0, -1, :]\n",
    "        return logits\n",
    "    \n",
    "class GreedySampler(Sampler):\n",
    "    def __call__(self, prompt, max_new_tokens=10):\n",
    "        predictions = []\n",
    "        result = prompt\n",
    "        # generate until max_len\n",
    "        for i in range(max_new_tokens):\n",
    "            \n",
    "            print(f\"step {i} input: {result}\")\n",
    "            input_ids = self.encode(result)\n",
    "            next_token_probs = self.get_next_token_prob(input_ids=input_ids)\n",
    "            \n",
    "            # choose the token with the highest probability\n",
    "            id = torch.argmax(next_token_probs, dim=-1).item()\n",
    "            # convert to token and add new token to text\n",
    "            result += self.decode(id)\n",
    "            \n",
    "            predictions.append(next_token_probs[id].item())\n",
    "\n",
    "        return result"
   ]
  },
  {
   "cell_type": "code",
   "execution_count": 5,
   "id": "73d60917",
   "metadata": {},
   "outputs": [],
   "source": [
    "# gs = GreedySampler()\n",
    "# gs(prompt=\"Large language models are recent advances in deep learning\", max_new_tokens=10)"
   ]
  },
  {
   "cell_type": "code",
   "execution_count": null,
   "id": "2c55dc8b-5cce-4d96-a980-7aee08203642",
   "metadata": {},
   "outputs": [],
   "source": []
  }
 ],
 "metadata": {
  "kernelspec": {
   "display_name": ".venv",
   "language": "python",
   "name": "python3"
  },
  "language_info": {
   "codemirror_mode": {
    "name": "ipython",
    "version": 3
   },
   "file_extension": ".py",
   "mimetype": "text/x-python",
   "name": "python",
   "nbconvert_exporter": "python",
   "pygments_lexer": "ipython3",
   "version": "3.10.11"
  }
 },
 "nbformat": 4,
 "nbformat_minor": 5
}
